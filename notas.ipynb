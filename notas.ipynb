{
 "cells": [
  {
   "cell_type": "code",
   "execution_count": 1,
   "metadata": {},
   "outputs": [],
   "source": [
    "txt= \"\"\"\n",
    "'Servicio de Administración Tributaria   Opinión del cumplimiento de obligaciones fiscales   Folio Clave R.F.C. 24NC3068561 AALL900126FT7   Nombre, Denominación o Razón social LIZETH VANESSA ALVAREZ LEON   Estimado contribuyente Respuesta de opinión: En atención a su consulta sobre el Cumplimiento de Obligaciones, se le informa lo siguiente: En los controles electrónicos institucionales del Servicio de Administración Tributaria, se observa que en el momento en que se realiza esta revisión,  se encuentra al corriente en el cumplimiento de los puntos que se revisa la opinión del cumplimiento de obligaciones fiscales, contenidos en la  Resolución Miscelánea Fiscal vigente. Por lo que se emite esta opinión del cumplimiento de obligaciones fiscales, en sentido POSITIVO. La presente  opinión no es una constancia del correcto entero de los impuestos declarados, para lo cual el SAT se reserva sus facultades de verificación previstas  en el Código Fiscal de la Federación. Revisión practicada el día 12 de junio de 2024, a las 16:07 horas   Notas 1.-Tratándose de estímulos o subsidios, tiene una vigencia de 3 meses contada a partir del día en que se emite según lo establecido en la regla  2.1.27. y 30 días naturales a partir de su emisión para trámites diferentes al señalado, de acuerdo a la regla 2.1.36. de la Resolución Miscelánea  Fiscal para 2024. 2.-El procedimiento para obtener la opinión se realiza conforme a lo previsto en la regla 2.1.36. de la Resolución Miscelánea Fiscal para 2024 y de  acuerdo a lo establecido en el artículo 32-D del Código Fiscal de la Federación y no constituye respuesta favorable respecto a contribuyentes que  se ubican en los supuestos del artículo 69 del Código Fiscal de la Federación. 3.-Para estímulos o subsidios, la opinión que se genere indicando que es Inscrito SIN OBLIGACIONES fiscales, se tomará como Positiva cuando  el monto del subsidio no rebase de 40 UMAS elevado al año, en caso contrario se considera como resultado Negativo. 4.-La opinión del cumplimiento, se genera atendiendo a la situación fiscal del contribuyente en los siguientes sentidos: POSITIVA. - Cuando el  contribuyente esté inscrito y al corriente en el cumplimiento de las obligaciones que se consideran en los numerales 1 a 12 de la regla 2.1.36. de  la Resolución Miscelánea Fiscal para 2024; NEGATIVA. - Cuando el contribuyente esté inscrito y no se encuentre al corriente en el cumplimiento  de las obligaciones que se consideran en los numerales 1 a 12 de la regla 2.1.36. de la Resolución Miscelánea Fiscal para 2024; INSCRITO SIN  OBLIGACIONES.- Cuando el contribuyente está inscrito en el RFC pero no tiene obligaciones fiscales. Cadena Original ||AALL900126FT7|24NC3068561|12-06-2024|P||00001088888800000031||  Sello Digital AggMSmGh1X6dBWLrj0h+nGF3jfa6aihaeoSQRZH11mPkp+KdNLSb0rlo3I9Od2prHD8cCsYcujs6ZDCSF6VwAS3ej xAAQlzK1hjXJd22xRchdgcxHyYGPab5OANcmzR7ywQRXJAPsYzfsG3E2E5b8U04wPbxvV6R8LBn3Ek3yBS6iFiwEk RT2qYvGw9MlqtyQGFyHySFQ9a4sG42oJZIRXQ/3Ter13j3BgP9lKYAqLx5nBQh5oqhX/teZMyhkUT/2+S0RiFuGCV 7hRoPFWlGuPb4A8ORmjcz8P/Nwuo+nmABpxG8QFE/EiFoOf2Zd0NhKzzZNw06kQske2JKgwA== Contacto: Av. Hidalgo 77, col. Guerrero, c.p. 06300,  Ciudad de México. Atención telefónica 01 55  627 22 728, desde Estados Unidos y Canadá  01 877 44 88 728.  Página 1 de 2Servicio de Administración Tributaria   Notas 5.-La opinión que se genere indicando que es INSCRITO SIN OBLIGACIONES fiscales, se considera Opinión Negativa para efectos de contratación  de adquisiciones, arrendamientos, servicios u obra pública 6.-El procedimiento para obtener la opinión se realiza conforme a lo previsto en la regla 2.1.36. de la Resolución Miscelánea Fiscal para 2024 y de  acuerdo a lo establecido en el artículo 32-D del Código Fiscal de la Federación.   Este servicio es gratuito, en el SAT nuestra misión es servirle. Sus datos personales son incorporados y protegidos en los sistemas del SAT, de conformidad con los lineamientos de protección de Datos Personales  y con las diversas disposiciones fiscales y legales sobre confidencialidad y protección de datos, a fin de ejercer las facultades conferidas a la autoridad  fiscal. Si desea modificar o corregir sus datos personales, puede acudir a la Administración Desconcentrada de Servicios al Contribuyente de su preferencia  y/o a través del Portal del SAT. Cadena Original ||AALL900126FT7|24NC3068561|12-06-2024|P||00001088888800000031||  Sello Digital AggMSmGh1X6dBWLrj0h+nGF3jfa6aihaeoSQRZH11mPkp+KdNLSb0rlo3I9Od2prHD8cCsYcujs6ZDCSF6VwAS3ej xAAQlzK1hjXJd22xRchdgcxHyYGPab5OANcmzR7ywQRXJAPsYzfsG3E2E5b8U04wPbxvV6R8LBn3Ek3yBS6iFiwEk RT2qYvGw9MlqtyQGFyHySFQ9a4sG42oJZIRXQ/3Ter13j3BgP9lKYAqLx5nBQh5oqhX/teZMyhkUT/2+S0RiFuGCV 7hRoPFWlGuPb4A8ORmjcz8P/Nwuo+nmABpxG8QFE/EiFoOf2Zd0NhKzzZNw06kQske2JKgwA== Contacto: Av. Hidalgo 77, col. Guerrero, c.p. 06300,  Ciudad de México. Atención telefónica 01 55  627 22 728, desde Estados Unidos y Canadá  01 877 44 88 728.  Página 2 de 2'\n",
    "\"\"\"\n",
    "\n"
   ]
  },
  {
   "cell_type": "code",
   "execution_count": 11,
   "metadata": {},
   "outputs": [
    {
     "name": "stderr",
     "output_type": "stream",
     "text": [
      "<>:2: SyntaxWarning: invalid escape sequence '\\s'\n",
      "<>:3: SyntaxWarning: invalid escape sequence '\\s'\n",
      "<>:4: SyntaxWarning: invalid escape sequence '\\s'\n",
      "<>:2: SyntaxWarning: invalid escape sequence '\\s'\n",
      "<>:3: SyntaxWarning: invalid escape sequence '\\s'\n",
      "<>:4: SyntaxWarning: invalid escape sequence '\\s'\n",
      "C:\\Users\\proyectosat\\AppData\\Local\\Temp\\ipykernel_18716\\2974688677.py:2: SyntaxWarning: invalid escape sequence '\\s'\n",
      "  folio = re.search('R.F.C.(.+?\\s)(.+?\\s)(.+?\\s)Respuesta', txt).group(1)\n",
      "C:\\Users\\proyectosat\\AppData\\Local\\Temp\\ipykernel_18716\\2974688677.py:3: SyntaxWarning: invalid escape sequence '\\s'\n",
      "  rfc = re.search('R.F.C.(.+?\\s)(.+?\\s)(.+?\\s)Respuesta', txt).group(2)\n",
      "C:\\Users\\proyectosat\\AppData\\Local\\Temp\\ipykernel_18716\\2974688677.py:4: SyntaxWarning: invalid escape sequence '\\s'\n",
      "  texto_estimado_contribuyente = re.search(\"Estimado contribuyente.(.+?\\s)Revisión practicada\",txt).group(1)\n"
     ]
    }
   ],
   "source": [
    "import re\n",
    "folio = re.search('R.F.C.(.+?\\s)(.+?\\s)(.+?\\s)Respuesta', txt).group(1)\n",
    "rfc = re.search('R.F.C.(.+?\\s)(.+?\\s)(.+?\\s)Respuesta', txt).group(2)\n",
    "try:\n",
    "    texto_estimado_contribuyente = re.search(\"Estimado contribuyente.(.+?\\s)Revisión practicada\",txt).group(1)\n",
    "    estado = re.findall('POSITIVO', texto_estimado_contribuyente)[0]\n",
    "except:\n",
    "    try:\n",
    "        estado = re.findall('NEGATIVO', texto_estimado_contribuyente)[0]\n",
    "    except:\n",
    "        try:\n",
    "            estado = re.findall('SIN OBLIGACIONES FISCALES', texto_estimado_contribuyente)[0]\n",
    "        except:\n",
    "            estado = \"\"\n",
    "            "
   ]
  },
  {
   "cell_type": "code",
   "execution_count": 12,
   "metadata": {},
   "outputs": [
    {
     "data": {
      "text/plain": [
       "'POSITIVO'"
      ]
     },
     "execution_count": 12,
     "metadata": {},
     "output_type": "execute_result"
    }
   ],
   "source": [
    "estado"
   ]
  }
 ],
 "metadata": {
  "kernelspec": {
   "display_name": "Python 3",
   "language": "python",
   "name": "python3"
  },
  "language_info": {
   "codemirror_mode": {
    "name": "ipython",
    "version": 3
   },
   "file_extension": ".py",
   "mimetype": "text/x-python",
   "name": "python",
   "nbconvert_exporter": "python",
   "pygments_lexer": "ipython3",
   "version": "3.12.4"
  }
 },
 "nbformat": 4,
 "nbformat_minor": 2
}
